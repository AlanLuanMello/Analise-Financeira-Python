{
 "cells": [
  {
   "cell_type": "code",
   "execution_count": 69,
   "id": "6aa734d3",
   "metadata": {},
   "outputs": [],
   "source": [
    "import pandas as pd\n",
    "import matplotlib.pyplot as plt\n",
    "import matplotlib.ticker as mtick\n",
    "import matplotlib.dates as mdates\n",
    "import mplcyberpunk\n",
    "import plotly.express as px\n",
    "from datetime import datetime\n",
    "import numpy as np\n",
    "from statistics import median\n",
    "from math import isnan\n",
    "from itertools import filterfalse\n",
    "#from fpdf import FPDF\n",
    "from matplotlib.dates import date2num"
   ]
  },
  {
   "cell_type": "markdown",
   "id": "4283d3a4",
   "metadata": {},
   "source": [
    "# Tratando os dados e criando um Data Frame"
   ]
  },
  {
   "cell_type": "code",
   "execution_count": 70,
   "id": "2ffb910b",
   "metadata": {},
   "outputs": [],
   "source": [
    "def reading_ext():\n",
    "    \n",
    "    extratos = [] \n",
    "    end_ext = (\"Extrato-08-12-2023-a-08-03-2024.csv\")\n",
    "    meses_ano = {1:'JANEIRO',2:'FEVEREIRO',3:'MARÇO',\n",
    "                4:'ABRIL',5:'MAIO',6:'JUNHO',\n",
    "                7:'JULHO',8:'AGOSTO',9:'SETEMBRO',\n",
    "                10:'OUTUBRO',11:'NOVEMBRO',12:'DEZEMBRO'} \n",
    "    hoje = float(datetime.today().strftime('%m'))-1\n",
    "    \n",
    "    for mes in meses_ano:\n",
    "        \n",
    "        if (hoje >= mes):\n",
    "            \n",
    "            ext = pd.read_csv(end_ext.format(mes, meses_ano[mes]), sep=';', decimal=',') \n",
    "            extratos.append(ext)\n",
    "            \n",
    "        else:\n",
    "            \n",
    "            break\n",
    "            \n",
    "    return extratos "
   ]
  },
  {
   "cell_type": "code",
   "execution_count": null,
   "id": "5de73d40",
   "metadata": {},
   "outputs": [],
   "source": [
    "def amount():\n",
    "        \n",
    "    meses = [0,1,2]\n",
    "    valor = 0\n",
    "    amount = []\n",
    "    \n",
    "    for mes in meses:\n",
    "        \n",
    "        extratos = reading_ext()[mes]\n",
    "        \n",
    "        x = len(extratos.index)\n",
    "        z = 0\n",
    "        \n",
    "        while (z < x):\n",
    "            \n",
    "            valor = extratos.at[z,'amount']\n",
    "            amount.append(valor)\n",
    "            z += 1\n",
    "                \n",
    "    return amount"
   ]
  },
  {
   "cell_type": "code",
   "execution_count": null,
   "id": "a7ab576b",
   "metadata": {},
   "outputs": [],
   "source": [
    "def category():\n",
    "    \n",
    "    meses = [0,1,2]\n",
    "    category = []\n",
    "    label = ''\n",
    "        \n",
    "    for mes in meses:\n",
    "        \n",
    "        extratos = reading_ext()[mes]\n",
    "        \n",
    "        x = len(extratos.index)\n",
    "        z = 0\n",
    "        \n",
    "        while (z < x):\n",
    "            \n",
    "            label = extratos.at[z,'category']\n",
    "            category.append(label)\n",
    "            z += 1\n",
    "            \n",
    "    return category"
   ]
  },
  {
   "cell_type": "code",
   "execution_count": null,
   "id": "7f8997c8",
   "metadata": {},
   "outputs": [],
   "source": [
    "def index():\n",
    "        \n",
    "    meses = [0,1,2]\n",
    "    index = []\n",
    "    index_ex = []\n",
    "    \n",
    "    for mes in meses:\n",
    "        \n",
    "        index_mes = len(reading_ext()[mes].index)\n",
    "        index.append(index_mes)\n",
    "        \n",
    "        i = sum(index)\n",
    "        z = 0\n",
    "\n",
    "        while (z < i):\n",
    "            \n",
    "            index_ex.append(z)\n",
    "            z += 1\n",
    "            \n",
    "    return index_ex"
   ]
  },
  {
   "cell_type": "code",
   "execution_count": null,
   "id": "c23525a8",
   "metadata": {},
   "outputs": [],
   "source": [
    "def data_frame():\n",
    "        \n",
    "       df = pd.DataFrame({'Categoria': category(), \n",
    "                          'Valor': amount()}, \n",
    "                          index = index())\n",
    "        \n",
    "       return df"
   ]
  },
  {
   "cell_type": "markdown",
   "id": "2db4dad7",
   "metadata": {},
   "source": [
    "# Reconhecimento superficial da distribuição dos dados"
   ]
  },
  {
   "cell_type": "code",
   "execution_count": null,
   "id": "39a77225",
   "metadata": {},
   "outputs": [
    {
     "ename": "ParserError",
     "evalue": "Error tokenizing data. C error: Expected 1 fields in line 6, saw 2\n",
     "output_type": "error",
     "traceback": [
      "\u001b[1;31m---------------------------------------------------------------------------\u001b[0m",
      "\u001b[1;31mParserError\u001b[0m                               Traceback (most recent call last)",
      "Cell \u001b[1;32mIn[50], line 1\u001b[0m\n\u001b[1;32m----> 1\u001b[0m extrato \u001b[38;5;241m=\u001b[39m \u001b[43mdata_frame\u001b[49m\u001b[43m(\u001b[49m\u001b[43m)\u001b[49m\u001b[38;5;241m.\u001b[39mdrop(data_frame()\u001b[38;5;241m.\u001b[39mindex[[\u001b[38;5;241m1\u001b[39m, \u001b[38;5;241m2\u001b[39m, \u001b[38;5;241m3\u001b[39m, \u001b[38;5;241m4\u001b[39m]])\n\u001b[0;32m      2\u001b[0m extrato\u001b[38;5;241m.\u001b[39mhead()\n",
      "Cell \u001b[1;32mIn[30], line 3\u001b[0m, in \u001b[0;36mdata_frame\u001b[1;34m()\u001b[0m\n\u001b[0;32m      1\u001b[0m \u001b[38;5;28;01mdef\u001b[39;00m \u001b[38;5;21mdata_frame\u001b[39m():\n\u001b[1;32m----> 3\u001b[0m        df \u001b[38;5;241m=\u001b[39m pd\u001b[38;5;241m.\u001b[39mDataFrame({\u001b[38;5;124m'\u001b[39m\u001b[38;5;124mCategoria\u001b[39m\u001b[38;5;124m'\u001b[39m: \u001b[43mcategory\u001b[49m\u001b[43m(\u001b[49m\u001b[43m)\u001b[49m, \u001b[38;5;124m'\u001b[39m\u001b[38;5;124mValor\u001b[39m\u001b[38;5;124m'\u001b[39m: amount()}, index \u001b[38;5;241m=\u001b[39m index())\n\u001b[0;32m      5\u001b[0m        \u001b[38;5;28;01mreturn\u001b[39;00m df\n",
      "Cell \u001b[1;32mIn[27], line 9\u001b[0m, in \u001b[0;36mcategory\u001b[1;34m()\u001b[0m\n\u001b[0;32m      5\u001b[0m label \u001b[38;5;241m=\u001b[39m \u001b[38;5;124m'\u001b[39m\u001b[38;5;124m'\u001b[39m\n\u001b[0;32m      7\u001b[0m \u001b[38;5;28;01mfor\u001b[39;00m mes \u001b[38;5;129;01min\u001b[39;00m meses:\n\u001b[1;32m----> 9\u001b[0m     extratos \u001b[38;5;241m=\u001b[39m \u001b[43mreading_ext\u001b[49m\u001b[43m(\u001b[49m\u001b[43m)\u001b[49m[mes]\n\u001b[0;32m     11\u001b[0m     x \u001b[38;5;241m=\u001b[39m \u001b[38;5;28mlen\u001b[39m(extratos\u001b[38;5;241m.\u001b[39mindex)\n\u001b[0;32m     12\u001b[0m     z \u001b[38;5;241m=\u001b[39m \u001b[38;5;241m0\u001b[39m\n",
      "Cell \u001b[1;32mIn[25], line 15\u001b[0m, in \u001b[0;36mreading_ext\u001b[1;34m()\u001b[0m\n\u001b[0;32m     11\u001b[0m \u001b[38;5;28;01mfor\u001b[39;00m mes \u001b[38;5;129;01min\u001b[39;00m meses_ano:\n\u001b[0;32m     13\u001b[0m     \u001b[38;5;28;01mif\u001b[39;00m (hoje \u001b[38;5;241m>\u001b[39m\u001b[38;5;241m=\u001b[39m mes):\n\u001b[1;32m---> 15\u001b[0m         ext \u001b[38;5;241m=\u001b[39m \u001b[43mpd\u001b[49m\u001b[38;5;241;43m.\u001b[39;49m\u001b[43mread_csv\u001b[49m\u001b[43m(\u001b[49m\u001b[43mend_ext\u001b[49m\u001b[38;5;241;43m.\u001b[39;49m\u001b[43mformat\u001b[49m\u001b[43m(\u001b[49m\u001b[43mmes\u001b[49m\u001b[43m,\u001b[49m\u001b[43mmeses_ano\u001b[49m\u001b[43m[\u001b[49m\u001b[43mmes\u001b[49m\u001b[43m]\u001b[49m\u001b[43m)\u001b[49m\u001b[43m)\u001b[49m\n\u001b[0;32m     16\u001b[0m         extratos\u001b[38;5;241m.\u001b[39mappend(ext)\n\u001b[0;32m     18\u001b[0m     \u001b[38;5;28;01melse\u001b[39;00m:\n",
      "File \u001b[1;32m~\\AppData\\Local\\Packages\\PythonSoftwareFoundation.Python.3.11_qbz5n2kfra8p0\\LocalCache\\local-packages\\Python311\\site-packages\\pandas\\io\\parsers\\readers.py:912\u001b[0m, in \u001b[0;36mread_csv\u001b[1;34m(filepath_or_buffer, sep, delimiter, header, names, index_col, usecols, dtype, engine, converters, true_values, false_values, skipinitialspace, skiprows, skipfooter, nrows, na_values, keep_default_na, na_filter, verbose, skip_blank_lines, parse_dates, infer_datetime_format, keep_date_col, date_parser, date_format, dayfirst, cache_dates, iterator, chunksize, compression, thousands, decimal, lineterminator, quotechar, quoting, doublequote, escapechar, comment, encoding, encoding_errors, dialect, on_bad_lines, delim_whitespace, low_memory, memory_map, float_precision, storage_options, dtype_backend)\u001b[0m\n\u001b[0;32m    899\u001b[0m kwds_defaults \u001b[38;5;241m=\u001b[39m _refine_defaults_read(\n\u001b[0;32m    900\u001b[0m     dialect,\n\u001b[0;32m    901\u001b[0m     delimiter,\n\u001b[1;32m   (...)\u001b[0m\n\u001b[0;32m    908\u001b[0m     dtype_backend\u001b[38;5;241m=\u001b[39mdtype_backend,\n\u001b[0;32m    909\u001b[0m )\n\u001b[0;32m    910\u001b[0m kwds\u001b[38;5;241m.\u001b[39mupdate(kwds_defaults)\n\u001b[1;32m--> 912\u001b[0m \u001b[38;5;28;01mreturn\u001b[39;00m \u001b[43m_read\u001b[49m\u001b[43m(\u001b[49m\u001b[43mfilepath_or_buffer\u001b[49m\u001b[43m,\u001b[49m\u001b[43m \u001b[49m\u001b[43mkwds\u001b[49m\u001b[43m)\u001b[49m\n",
      "File \u001b[1;32m~\\AppData\\Local\\Packages\\PythonSoftwareFoundation.Python.3.11_qbz5n2kfra8p0\\LocalCache\\local-packages\\Python311\\site-packages\\pandas\\io\\parsers\\readers.py:583\u001b[0m, in \u001b[0;36m_read\u001b[1;34m(filepath_or_buffer, kwds)\u001b[0m\n\u001b[0;32m    580\u001b[0m     \u001b[38;5;28;01mreturn\u001b[39;00m parser\n\u001b[0;32m    582\u001b[0m \u001b[38;5;28;01mwith\u001b[39;00m parser:\n\u001b[1;32m--> 583\u001b[0m     \u001b[38;5;28;01mreturn\u001b[39;00m \u001b[43mparser\u001b[49m\u001b[38;5;241;43m.\u001b[39;49m\u001b[43mread\u001b[49m\u001b[43m(\u001b[49m\u001b[43mnrows\u001b[49m\u001b[43m)\u001b[49m\n",
      "File \u001b[1;32m~\\AppData\\Local\\Packages\\PythonSoftwareFoundation.Python.3.11_qbz5n2kfra8p0\\LocalCache\\local-packages\\Python311\\site-packages\\pandas\\io\\parsers\\readers.py:1704\u001b[0m, in \u001b[0;36mTextFileReader.read\u001b[1;34m(self, nrows)\u001b[0m\n\u001b[0;32m   1697\u001b[0m nrows \u001b[38;5;241m=\u001b[39m validate_integer(\u001b[38;5;124m\"\u001b[39m\u001b[38;5;124mnrows\u001b[39m\u001b[38;5;124m\"\u001b[39m, nrows)\n\u001b[0;32m   1698\u001b[0m \u001b[38;5;28;01mtry\u001b[39;00m:\n\u001b[0;32m   1699\u001b[0m     \u001b[38;5;66;03m# error: \"ParserBase\" has no attribute \"read\"\u001b[39;00m\n\u001b[0;32m   1700\u001b[0m     (\n\u001b[0;32m   1701\u001b[0m         index,\n\u001b[0;32m   1702\u001b[0m         columns,\n\u001b[0;32m   1703\u001b[0m         col_dict,\n\u001b[1;32m-> 1704\u001b[0m     ) \u001b[38;5;241m=\u001b[39m \u001b[38;5;28;43mself\u001b[39;49m\u001b[38;5;241;43m.\u001b[39;49m\u001b[43m_engine\u001b[49m\u001b[38;5;241;43m.\u001b[39;49m\u001b[43mread\u001b[49m\u001b[43m(\u001b[49m\u001b[43m  \u001b[49m\u001b[38;5;66;43;03m# type: ignore[attr-defined]\u001b[39;49;00m\n\u001b[0;32m   1705\u001b[0m \u001b[43m        \u001b[49m\u001b[43mnrows\u001b[49m\n\u001b[0;32m   1706\u001b[0m \u001b[43m    \u001b[49m\u001b[43m)\u001b[49m\n\u001b[0;32m   1707\u001b[0m \u001b[38;5;28;01mexcept\u001b[39;00m \u001b[38;5;167;01mException\u001b[39;00m:\n\u001b[0;32m   1708\u001b[0m     \u001b[38;5;28mself\u001b[39m\u001b[38;5;241m.\u001b[39mclose()\n",
      "File \u001b[1;32m~\\AppData\\Local\\Packages\\PythonSoftwareFoundation.Python.3.11_qbz5n2kfra8p0\\LocalCache\\local-packages\\Python311\\site-packages\\pandas\\io\\parsers\\c_parser_wrapper.py:234\u001b[0m, in \u001b[0;36mCParserWrapper.read\u001b[1;34m(self, nrows)\u001b[0m\n\u001b[0;32m    232\u001b[0m \u001b[38;5;28;01mtry\u001b[39;00m:\n\u001b[0;32m    233\u001b[0m     \u001b[38;5;28;01mif\u001b[39;00m \u001b[38;5;28mself\u001b[39m\u001b[38;5;241m.\u001b[39mlow_memory:\n\u001b[1;32m--> 234\u001b[0m         chunks \u001b[38;5;241m=\u001b[39m \u001b[38;5;28mself\u001b[39m\u001b[38;5;241m.\u001b[39m_reader\u001b[38;5;241m.\u001b[39mread_low_memory(nrows)\n\u001b[0;32m    235\u001b[0m         \u001b[38;5;66;03m# destructive to chunks\u001b[39;00m\n\u001b[0;32m    236\u001b[0m         data \u001b[38;5;241m=\u001b[39m _concatenate_chunks(chunks)\n",
      "File \u001b[1;32m~\\AppData\\Local\\Packages\\PythonSoftwareFoundation.Python.3.11_qbz5n2kfra8p0\\LocalCache\\local-packages\\Python311\\site-packages\\pandas\\_libs\\parsers.pyx:812\u001b[0m, in \u001b[0;36mpandas._libs.parsers.TextReader.read_low_memory\u001b[1;34m()\u001b[0m\n",
      "File \u001b[1;32m~\\AppData\\Local\\Packages\\PythonSoftwareFoundation.Python.3.11_qbz5n2kfra8p0\\LocalCache\\local-packages\\Python311\\site-packages\\pandas\\_libs\\parsers.pyx:873\u001b[0m, in \u001b[0;36mpandas._libs.parsers.TextReader._read_rows\u001b[1;34m()\u001b[0m\n",
      "File \u001b[1;32m~\\AppData\\Local\\Packages\\PythonSoftwareFoundation.Python.3.11_qbz5n2kfra8p0\\LocalCache\\local-packages\\Python311\\site-packages\\pandas\\_libs\\parsers.pyx:848\u001b[0m, in \u001b[0;36mpandas._libs.parsers.TextReader._tokenize_rows\u001b[1;34m()\u001b[0m\n",
      "File \u001b[1;32m~\\AppData\\Local\\Packages\\PythonSoftwareFoundation.Python.3.11_qbz5n2kfra8p0\\LocalCache\\local-packages\\Python311\\site-packages\\pandas\\_libs\\parsers.pyx:859\u001b[0m, in \u001b[0;36mpandas._libs.parsers.TextReader._check_tokenize_status\u001b[1;34m()\u001b[0m\n",
      "File \u001b[1;32m~\\AppData\\Local\\Packages\\PythonSoftwareFoundation.Python.3.11_qbz5n2kfra8p0\\LocalCache\\local-packages\\Python311\\site-packages\\pandas\\_libs\\parsers.pyx:2025\u001b[0m, in \u001b[0;36mpandas._libs.parsers.raise_parser_error\u001b[1;34m()\u001b[0m\n",
      "\u001b[1;31mParserError\u001b[0m: Error tokenizing data. C error: Expected 1 fields in line 6, saw 2\n"
     ]
    }
   ],
   "source": [
    "extrato = data_frame().drop(data_frame().index[[1, 2, 3, 4]])\n",
    "extrato.head()"
   ]
  },
  {
   "cell_type": "code",
   "execution_count": null,
   "id": "8ad20c48",
   "metadata": {},
   "outputs": [],
   "source": [
    "plt.style.use(\"cyberpunk\")\n",
    "plt.figure(figsize = (13, 7))\n",
    "extrato.plot()\n",
    "plt.savefig('fluxo.png', dpi = 300)"
   ]
  },
  {
   "cell_type": "code",
   "execution_count": null,
   "id": "9e3d64a5",
   "metadata": {},
   "outputs": [],
   "source": [
    "def moving_avg(period):\n",
    "    \n",
    "    plt.figure(figsize = (13, 7))\n",
    "    extrato['Valor'].rolling(window = period).mean().plot(label = f'Média Móvel de {period} Dias')\n",
    "    extrato['Valor'].plot(label = 'Fluxo de saída')\n",
    "    plt.legend()\n",
    "    plt.show()"
   ]
  },
  {
   "cell_type": "code",
   "execution_count": null,
   "id": "32e9a425",
   "metadata": {},
   "outputs": [],
   "source": [
    "media7 = moving_avg(7)\n",
    "plt.savefig('media7.png', dpi = 300)"
   ]
  },
  {
   "cell_type": "code",
   "execution_count": null,
   "id": "33fe9d70",
   "metadata": {},
   "outputs": [],
   "source": [
    "fig = px.pie(values = extrato['Valor'], names = extrato['Categoria'])\n",
    "fig.show()"
   ]
  },
  {
   "cell_type": "code",
   "execution_count": null,
   "id": "0c0f5db8",
   "metadata": {},
   "outputs": [],
   "source": [
    "#ANÁLISE SEPARADA DO MERCADO:\n",
    "def get_supermercado():\n",
    "    \n",
    "    extrato = data_frame()\n",
    "    \n",
    "    x = len(extrato.index)\n",
    "    z = 0\n",
    "    valor = 0\n",
    "    valor_total = []\n",
    "    \n",
    "    while (z < x): \n",
    "        \n",
    "        if (extrato.at[z, 'Categoria'] == 'supermercado'):\n",
    "            valor = extrato.at[z, 'Valor']\n",
    "            valor_total.append(valor)\n",
    "            z += 1\n",
    "        else:\n",
    "            z += 1\n",
    "            \n",
    "    pagamento_recebido = sum(valor_total)\n",
    "    \n",
    "    return pagamento_recebido"
   ]
  },
  {
   "cell_type": "code",
   "execution_count": null,
   "id": "e79db4dc",
   "metadata": {},
   "outputs": [],
   "source": [
    "def get_values_supermercado():\n",
    "    \n",
    "    extrato = data_frame()\n",
    "    \n",
    "    x = len(extrato.index)\n",
    "    z = 0\n",
    "    valor = 0\n",
    "    valor_total = []\n",
    "    \n",
    "    while (z < x): \n",
    "        \n",
    "        if (extrato.at[z, 'Categoria'] == 'supermercado'):\n",
    "            valor = extrato.at[z, 'Valor']\n",
    "            valor_total.append(valor)\n",
    "            z += 1\n",
    "        else:\n",
    "            z += 1\n",
    "            \n",
    "    return valor_total"
   ]
  },
  {
   "cell_type": "code",
   "execution_count": null,
   "id": "49cc6a2e",
   "metadata": {},
   "outputs": [],
   "source": [
    "def count_list(list):\n",
    "    \n",
    "    count = 0\n",
    "    counts = []\n",
    "    \n",
    "    for element in list:\n",
    "        count += 1\n",
    "        counts.append(count)\n",
    "        \n",
    "    return counts"
   ]
  },
  {
   "cell_type": "code",
   "execution_count": null,
   "id": "e1de9fd8",
   "metadata": {},
   "outputs": [],
   "source": [
    "def data_frame_supermercado():\n",
    "    \n",
    "    df = pd.DataFrame({'Valor': get_values_supermercado()}, index = count_list(get_values_supermercado()))\n",
    "    \n",
    "    return df"
   ]
  },
  {
   "cell_type": "code",
   "execution_count": null,
   "id": "3138e152",
   "metadata": {},
   "outputs": [],
   "source": [
    "data_frame_supermercado().plot()"
   ]
  },
  {
   "cell_type": "code",
   "execution_count": null,
   "id": "886e9be8",
   "metadata": {},
   "outputs": [],
   "source": [
    "#ANÁLISE SEPARADA DO RESTAURANTE:\n",
    "def get_restaurante():\n",
    "    \n",
    "    extrato = data_frame()\n",
    "    \n",
    "    x = len(extrato.index)\n",
    "    z = 0\n",
    "    valor = 0\n",
    "    valor_total = []\n",
    "    \n",
    "    while (z < x): \n",
    "        \n",
    "        if (extrato.at[z, 'Categoria'] == 'restaurante'):\n",
    "            valor = extrato.at[z, 'Valor']\n",
    "            valor_total.append(valor)\n",
    "            z += 1\n",
    "        else:\n",
    "            z += 1\n",
    "            \n",
    "    pagamento_recebido = sum(valor_total)\n",
    "    \n",
    "    return pagamento_recebido"
   ]
  },
  {
   "cell_type": "code",
   "execution_count": null,
   "id": "dfa9cc45",
   "metadata": {},
   "outputs": [],
   "source": [
    "def get_values_restaurante():\n",
    "    \n",
    "    extrato = data_frame()\n",
    "    \n",
    "    x = len(extrato_index)\n",
    "    z = 0\n",
    "    valor = 0\n",
    "    valor_total = []\n",
    "    \n",
    "    while (z < x): \n",
    "        \n",
    "        if (extrato.at[z, 'Categoria'] == 'restaurante'):\n",
    "            valor = extrato.at[z, 'Valor']\n",
    "            valor_total.append(valor)\n",
    "            z += 1\n",
    "        else:\n",
    "            z += 1\n",
    "            \n",
    "    return valor_total"
   ]
  },
  {
   "cell_type": "code",
   "execution_count": null,
   "id": "e6c36cb5",
   "metadata": {},
   "outputs": [],
   "source": [
    "def data_frame_restaurante():\n",
    "    \n",
    "    df = pd.DataFrame({'Valor': get_values_restaurante()}, index = count_list(get_values_restaurante()))\n",
    "    \n",
    "    return df"
   ]
  },
  {
   "cell_type": "code",
   "execution_count": null,
   "id": "f77332d1",
   "metadata": {},
   "outputs": [],
   "source": [
    "data_frame_restaurante().plot()"
   ]
  },
  {
   "cell_type": "code",
   "execution_count": null,
   "id": "3053805a",
   "metadata": {},
   "outputs": [],
   "source": [
    "#ANÁLISE SEPARADA DO TRANSPORTE:\n",
    "def get_transporte():\n",
    "    \n",
    "    extrato = data_frame()\n",
    "    \n",
    "    x = len(extrato.index)\n",
    "    z = 0\n",
    "    valor = 0\n",
    "    valor_total = []\n",
    "    \n",
    "    while (z < x): \n",
    "        \n",
    "        if (extrato.at[z, 'Categoria'] == 'transporte'):\n",
    "            valor = extrato.at[z, 'Valor']\n",
    "            valor_total.append(valor)\n",
    "            z += 1\n",
    "        else:\n",
    "            z += 1\n",
    "            \n",
    "    pagamento_recebido = sum(valor_total)\n",
    "    \n",
    "    return pagamento_recebido"
   ]
  },
  {
   "cell_type": "code",
   "execution_count": null,
   "id": "2c4ce697",
   "metadata": {},
   "outputs": [],
   "source": [
    "def get_values_transporte():\n",
    "    \n",
    "    extrato = data_frame()\n",
    "    \n",
    "    x = len(extrato_index)\n",
    "    z = 0\n",
    "    valor = 0\n",
    "    valor_total = []\n",
    "    \n",
    "    while (z < x): \n",
    "        \n",
    "        if (extrato.at[z, 'Categoria'] == 'restaurante'):\n",
    "            valor = extrato.at[z, 'Valor']\n",
    "            valor_total.append(valor)\n",
    "            z += 1\n",
    "        else:\n",
    "            z += 1\n",
    "            \n",
    "    return valor_total"
   ]
  },
  {
   "cell_type": "code",
   "execution_count": null,
   "id": "93a7d624",
   "metadata": {},
   "outputs": [],
   "source": [
    "def data_frame_transporte():\n",
    "    \n",
    "    df = pd.DataFrame({'Valor': get_values_transporte()}, index = count_list(get_values_transporte()))\n",
    "    \n",
    "    return df"
   ]
  },
  {
   "cell_type": "code",
   "execution_count": null,
   "id": "2810deef",
   "metadata": {},
   "outputs": [],
   "source": [
    "data_frame_transporte().plot()"
   ]
  },
  {
   "cell_type": "code",
   "execution_count": null,
   "id": "7330505f",
   "metadata": {},
   "outputs": [],
   "source": [
    "#ANÁLISE SEPARADA DA CASA:\n",
    "def get_casa():\n",
    "    \n",
    "    extrato = data_frame()\n",
    "    \n",
    "    x = len(extrato.index)\n",
    "    z = 0\n",
    "    valor = 0\n",
    "    valor_total = []\n",
    "    \n",
    "    while (z < x): \n",
    "        \n",
    "        if (extrato.at[z, 'Categoria'] == 'casa'):\n",
    "            valor = extrato.at[z, 'Valor']\n",
    "            valor_total.append(valor)\n",
    "            z += 1\n",
    "        else:\n",
    "            z += 1\n",
    "            \n",
    "    pagamento_recebido = sum(valor_total)\n",
    "    \n",
    "    return pagamento_recebido"
   ]
  },
  {
   "cell_type": "code",
   "execution_count": null,
   "id": "bfd06926",
   "metadata": {},
   "outputs": [],
   "source": [
    "def get_values_casa():\n",
    "    \n",
    "    extrato = data_frame()\n",
    "    \n",
    "    x = len(extrato_index)\n",
    "    z = 0\n",
    "    valor = 0\n",
    "    valor_total = []\n",
    "    \n",
    "    while (z < x): \n",
    "        \n",
    "        if (extrato.at[z, 'Categoria'] == 'casa'):\n",
    "            valor = extrato.at[z, 'Valor']\n",
    "            valor_total.append(valor)\n",
    "            z += 1\n",
    "        else:\n",
    "            z += 1\n",
    "            \n",
    "    return valor_total"
   ]
  },
  {
   "cell_type": "code",
   "execution_count": null,
   "id": "a5aefcd5",
   "metadata": {},
   "outputs": [],
   "source": [
    "def data_frame_casa():\n",
    "    \n",
    "    df = pd.DataFrame({'Valor': get_values_casa()}, index = count_list(get_values_casa()))\n",
    "    \n",
    "    return df"
   ]
  },
  {
   "cell_type": "code",
   "execution_count": null,
   "id": "b9b6ee40",
   "metadata": {},
   "outputs": [],
   "source": [
    "data_frame_casa().plot()"
   ]
  },
  {
   "cell_type": "code",
   "execution_count": null,
   "id": "e106a205",
   "metadata": {},
   "outputs": [],
   "source": [
    "#ANÁLISE SEPARADA DO VESTUÁRIO:\n",
    "def get_vestuario():\n",
    "    \n",
    "    extrato = data_frame()\n",
    "    \n",
    "    x = len(extrato.index)\n",
    "    z = 0\n",
    "    valor = 0\n",
    "    valor_total = []\n",
    "    \n",
    "    while (z < x): \n",
    "        \n",
    "        if (extrato.at[z, 'Categoria'] == 'vestuário'):\n",
    "            valor = extrato.at[z, 'Valor']\n",
    "            valor_total.append(valor)\n",
    "            z += 1\n",
    "        else:\n",
    "            z += 1\n",
    "            \n",
    "    pagamento_recebido = sum(valor_total)\n",
    "    \n",
    "    return pagamento_recebido"
   ]
  },
  {
   "cell_type": "code",
   "execution_count": null,
   "id": "4ff398f8",
   "metadata": {},
   "outputs": [],
   "source": [
    "def get_values_vestuario():\n",
    "    \n",
    "    extrato = data_frame()\n",
    "    \n",
    "    x = len(extrato_index)\n",
    "    z = 0\n",
    "    valor = 0\n",
    "    valor_total = []\n",
    "    \n",
    "    while (z < x): \n",
    "        \n",
    "        if (extrato.at[z, 'Categoria'] == 'vestuario'):\n",
    "            valor = extrato.at[z, 'Valor']\n",
    "            valor_total.append(valor)\n",
    "            z += 1\n",
    "        else:\n",
    "            z += 1\n",
    "            \n",
    "    return valor_total"
   ]
  },
  {
   "cell_type": "code",
   "execution_count": null,
   "id": "73e64a99",
   "metadata": {},
   "outputs": [],
   "source": [
    "def data_frame_vestuario():\n",
    "    \n",
    "    df = pd.DataFrame({'Valor': get_values_vestuario()}, index = count_list(get_values_vestuario()))\n",
    "    \n",
    "    return df"
   ]
  },
  {
   "cell_type": "code",
   "execution_count": null,
   "id": "c6e27f22",
   "metadata": {},
   "outputs": [],
   "source": [
    "data_frame_vestuario().plot()"
   ]
  },
  {
   "cell_type": "markdown",
   "id": "a8466847",
   "metadata": {},
   "source": [
    "# Diagnóstico final"
   ]
  },
  {
   "cell_type": "code",
   "execution_count": null,
   "id": "80d93e1e",
   "metadata": {},
   "outputs": [],
   "source": [
    "#Total gasto nos últimos três meses (exclusão de março, pois a fatura é postecipada)\n",
    "total = sum(extrato['Valor'])\n",
    "total"
   ]
  },
  {
   "cell_type": "code",
   "execution_count": null,
   "id": "45305cd2",
   "metadata": {},
   "outputs": [],
   "source": [
    "#Total em vestuário\n",
    "total_vestuario = sum(get_valores_vestuario())\n",
    "total_vestuario"
   ]
  },
  {
   "cell_type": "code",
   "execution_count": null,
   "id": "a4e6536c",
   "metadata": {},
   "outputs": [],
   "source": [
    "#Média vestuário\n",
    "data_frame_vestuario().mean()"
   ]
  },
  {
   "cell_type": "code",
   "execution_count": null,
   "id": "8f272597",
   "metadata": {},
   "outputs": [],
   "source": [
    "#Total em transporte\n",
    "total_transporte = sum(get_values_transporte())\n",
    "total_transporte"
   ]
  },
  {
   "cell_type": "code",
   "execution_count": null,
   "id": "a22ff050",
   "metadata": {},
   "outputs": [],
   "source": [
    "#Média transporte\n",
    "data_frame_transporte().mean()"
   ]
  },
  {
   "cell_type": "code",
   "execution_count": null,
   "id": "c4bb06ef",
   "metadata": {
    "collapsed": true
   },
   "outputs": [],
   "source": [
    "#Total em supermercado\n",
    "total_supermercado = sum(get_values_supermercado())\n",
    "total_supermercado"
   ]
  },
  {
   "cell_type": "code",
   "execution_count": null,
   "id": "c23f8d49",
   "metadata": {},
   "outputs": [],
   "source": [
    "#Média supermercado\n",
    "data_frame_supermercado().mean()"
   ]
  },
  {
   "cell_type": "code",
   "execution_count": null,
   "id": "4e06c0f3",
   "metadata": {},
   "outputs": [],
   "source": [
    "#Total em casa\n",
    "total_casa = sum(get_values_casa())\n",
    "total_casa"
   ]
  },
  {
   "cell_type": "code",
   "execution_count": null,
   "id": "77d39c85",
   "metadata": {},
   "outputs": [],
   "source": [
    "#Média casa\n",
    "data_frame_casa().mean()"
   ]
  },
  {
   "cell_type": "code",
   "execution_count": null,
   "id": "a6abdcaa",
   "metadata": {},
   "outputs": [],
   "source": [
    "#Total em restaurante\n",
    "total_restaurante = sum(get_values_restaurante())\n",
    "total_restaurante"
   ]
  },
  {
   "cell_type": "code",
   "execution_count": null,
   "id": "c0717d2d",
   "metadata": {},
   "outputs": [],
   "source": [
    "#Média restaurante\n",
    "data_frame_restaurante().mean()"
   ]
  },
  {
   "cell_type": "code",
   "execution_count": null,
   "id": "d951e762",
   "metadata": {},
   "outputs": [],
   "source": [
    "#Média de gasto diário\n",
    "extrato['Valor'].mean()"
   ]
  },
  {
   "cell_type": "code",
   "execution_count": null,
   "id": "e67015c5",
   "metadata": {},
   "outputs": [],
   "source": [
    "#Valores recorrentes (provaveis custos fixos)\n",
    "extrato['Valor'].mode()"
   ]
  },
  {
   "cell_type": "code",
   "execution_count": null,
   "id": "9a708861",
   "metadata": {},
   "outputs": [],
   "source": [
    "#Projeção superficial do custo necessário projetado\n",
    "academia = 119.90\n",
    "custo_proj = get_transporte() + get_supermercado() + get_casa() + get_restaurante() + 3*academia\n",
    "custo_proj"
   ]
  },
  {
   "cell_type": "code",
   "execution_count": null,
   "id": "a99a02e4",
   "metadata": {},
   "outputs": [],
   "source": [
    "#Provável excesso\n",
    "total - custo_proj"
   ]
  },
  {
   "cell_type": "code",
   "execution_count": null,
   "id": "e6f435b3",
   "metadata": {},
   "outputs": [],
   "source": [
    "#Média do custo projetado nos últimos três meses\n",
    "custo_proj / 3"
   ]
  },
  {
   "cell_type": "code",
   "execution_count": null,
   "id": "bac2c44e",
   "metadata": {},
   "outputs": [],
   "source": [
    "#Média excesso mensal nos últimos três meses\n",
    "(total - custo_proj) / 3"
   ]
  },
  {
   "cell_type": "markdown",
   "id": "8a439290",
   "metadata": {},
   "source": [
    "# Consultando carteira ETH"
   ]
  },
  {
   "cell_type": "code",
   "execution_count": null,
   "id": "339dc984",
   "metadata": {},
   "outputs": [],
   "source": [
    "from web3 import Web3"
   ]
  },
  {
   "cell_type": "code",
   "execution_count": null,
   "id": "c610eaca",
   "metadata": {},
   "outputs": [],
   "source": [
    "#Refazer mainnet\n",
    "\n",
    "infura_url = 'https://mainnet.infura.io/v3/0'\n",
    "web3 = Web3(Web3.HTTPProvider(infura_url))"
   ]
  },
  {
   "cell_type": "code",
   "execution_count": null,
   "id": "126dcd0b",
   "metadata": {},
   "outputs": [],
   "source": [
    "web3.isConnected()"
   ]
  },
  {
   "cell_type": "code",
   "execution_count": null,
   "id": "c1f92908",
   "metadata": {},
   "outputs": [],
   "source": [
    "balance = web3.eth.getBalance('')\n",
    "web3.from"
   ]
  },
  {
   "cell_type": "markdown",
   "id": "71f7a5d4",
   "metadata": {},
   "source": [
    "# Criando PDF"
   ]
  },
  {
   "cell_type": "code",
   "execution_count": null,
   "id": "8d030485",
   "metadata": {},
   "outputs": [],
   "source": [
    "class PDF(FPDF):\n",
    "    def header(self):"
   ]
  }
 ],
 "metadata": {
  "kernelspec": {
   "display_name": "Python 3 (ipykernel)",
   "language": "python",
   "name": "python3"
  },
  "language_info": {
   "codemirror_mode": {
    "name": "ipython",
    "version": 3
   },
   "file_extension": ".py",
   "mimetype": "text/x-python",
   "name": "python",
   "nbconvert_exporter": "python",
   "pygments_lexer": "ipython3",
   "version": "3.11.8"
  }
 },
 "nbformat": 4,
 "nbformat_minor": 5
}
